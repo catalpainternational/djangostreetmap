{
 "cells": [
  {
   "cell_type": "code",
   "execution_count": 180,
   "source": [
    "# Fetching Roads"
   ],
   "outputs": [],
   "metadata": {}
  },
  {
   "cell_type": "code",
   "execution_count": 181,
   "source": [
    "import osmium\n",
    "from pathlib import Path\n",
    "import os"
   ],
   "outputs": [],
   "metadata": {}
  },
  {
   "cell_type": "code",
   "execution_count": 182,
   "source": [
    "osmfile=Path(\"..\") / \"papua-new-guinea-latest.osm.pbf\"\n",
    "# This should be downloaded, it's gitignored\n",
    "assert os.path.exists(osmfile)"
   ],
   "outputs": [],
   "metadata": {}
  },
  {
   "cell_type": "code",
   "execution_count": 183,
   "source": [
    "wkb_factory = osmium.geom.WKBFactory()\n"
   ],
   "outputs": [],
   "metadata": {}
  },
  {
   "cell_type": "code",
   "execution_count": 184,
   "source": [
    "class HighwayHandler(osmium.SimpleHandler):\n",
    "    \n",
    "    def __init__(self):\n",
    "        super().__init__()\n",
    "        self.factory = osmium.geom.WKBFactory()\n",
    "        self.geoms = []\n",
    "        self.failed = 0\n",
    "\n",
    "    def get_highway(self, way: osmium.osm.Way):\n",
    "        highway = way.tags.get('highway')\n",
    "        geom = self.factory.create_linestring(way)\n",
    "        print(highway, end=\"\\r\")\n",
    "\n",
    "    def way(self, way):\n",
    "        \n",
    "        handler = None\n",
    "        if way.tags.get(\"highway\"):\n",
    "            handler = self.get_highway\n",
    "        \n",
    "        if handler:\n",
    "            handler(way)"
   ],
   "outputs": [],
   "metadata": {}
  },
  {
   "cell_type": "code",
   "execution_count": 185,
   "source": [
    "def run():\n",
    "    HighwayHandler().apply_file(f'{osmfile}', locations=True)"
   ],
   "outputs": [],
   "metadata": {}
  },
  {
   "cell_type": "code",
   "execution_count": 186,
   "source": [
    "run()"
   ],
   "outputs": [
    {
     "output_type": "stream",
     "name": "stdout",
     "text": []
    }
   ],
   "metadata": {}
  },
  {
   "cell_type": "code",
   "execution_count": null,
   "source": [],
   "outputs": [],
   "metadata": {}
  }
 ],
 "metadata": {
  "kernelspec": {
   "name": "python3",
   "display_name": "Python 3.8.10 64-bit ('env': venv)"
  },
  "language_info": {
   "codemirror_mode": {
    "name": "ipython",
    "version": 3
   },
   "file_extension": ".py",
   "mimetype": "text/x-python",
   "name": "python",
   "nbconvert_exporter": "python",
   "pygments_lexer": "ipython3",
   "version": "3.8.10"
  },
  "interpreter": {
   "hash": "18a6efc76311c1027b492e6fc886cc6277d33e8931185f68cc5cb1e838347c78"
  }
 },
 "nbformat": 4,
 "nbformat_minor": 5
}