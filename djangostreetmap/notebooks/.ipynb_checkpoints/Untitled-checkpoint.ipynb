{
 "cells": [
  {
   "cell_type": "code",
   "execution_count": 1,
   "id": "fe3387f4-51c6-4214-846c-c7b14add9995",
   "metadata": {},
   "outputs": [],
   "source": [
    "# Fetching Roads"
   ]
  },
  {
   "cell_type": "code",
   "execution_count": 5,
   "id": "9d37885f-aff9-47a2-bcad-95784ca1bd91",
   "metadata": {},
   "outputs": [],
   "source": [
    "import osmium\n",
    "from pathlib import Path\n",
    "import os"
   ]
  },
  {
   "cell_type": "code",
   "execution_count": 9,
   "id": "506ab54e-3966-4f75-b3ff-9dc08c5d0312",
   "metadata": {},
   "outputs": [],
   "source": [
    "osmfile=Path(\"..\") / \"papua-new-guinea-latest.osm.pbf\"\n",
    "# This should be downloaded, it's gitignored\n",
    "assert os.path.exists(osmfile)"
   ]
  },
  {
   "cell_type": "code",
   "execution_count": 7,
   "id": "6ea80f7b-ed2c-46ce-9918-7dcb7a6e74d9",
   "metadata": {},
   "outputs": [],
   "source": [
    "class NamesHandler(osmium.SimpleHandler):\n",
    "\n",
    "    def output_pubs(self, tags):\n",
    "        if tags.get('amenity') == 'pub' and 'name' in tags:\n",
    "            print(tags['name'])\n",
    "\n",
    "    def node(self, n):\n",
    "        self.output_pubs(n.tags)\n",
    "\n",
    "    def way(self, w):\n",
    "        self.output_pubs(w.tags)\n",
    "\n",
    "def main(osmfile):\n",
    "    NamesHandler().apply_file(osmfile)\n",
    "\n",
    "    return 0\n",
    "\n",
    "if __name__ == '__main__':\n",
    "    if len(sys.argv) != 2:\n",
    "        print(\"Usage: python %s <osmfile>\" % sys.argv[0])\n",
    "        sys.exit(-1)\n",
    "\n",
    "    exit(main(sys.argv[1]))"
   ]
  },
  {
   "cell_type": "code",
   "execution_count": null,
   "id": "3f6215a5-c83d-47ee-a844-0dd361d579c9",
   "metadata": {},
   "outputs": [],
   "source": []
  }
 ],
 "metadata": {
  "kernelspec": {
   "display_name": "Python 3",
   "language": "python",
   "name": "python3"
  },
  "language_info": {
   "codemirror_mode": {
    "name": "ipython",
    "version": 3
   },
   "file_extension": ".py",
   "mimetype": "text/x-python",
   "name": "python",
   "nbconvert_exporter": "python",
   "pygments_lexer": "ipython3",
   "version": "3.8.10"
  }
 },
 "nbformat": 4,
 "nbformat_minor": 5
}
